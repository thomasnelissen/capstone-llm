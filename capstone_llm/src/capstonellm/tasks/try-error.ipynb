{
 "cells": [
  {
   "cell_type": "code",
   "execution_count": 1,
   "metadata": {},
   "outputs": [
    {
     "name": "stderr",
     "output_type": "stream",
     "text": [
      "Picked up JAVA_TOOL_OPTIONS: -XX:+UseContainerSupport -XX:ActiveProcessorCount=1\n",
      "Picked up JAVA_TOOL_OPTIONS: -XX:+UseContainerSupport -XX:ActiveProcessorCount=1\n",
      "24/09/12 16:16:11 WARN Utils: Your hostname, thomasnelis-capstonellm-e22sbqjnblg resolves to a loopback address: 127.0.0.1; using 10.0.5.2 instead (on interface eth0)\n",
      "24/09/12 16:16:11 WARN Utils: Set SPARK_LOCAL_IP if you need to bind to another address\n",
      "Setting default log level to \"WARN\".\n",
      "To adjust logging level use sc.setLogLevel(newLevel). For SparkR, use setLogLevel(newLevel).\n",
      "24/09/12 16:16:12 WARN NativeCodeLoader: Unable to load native-hadoop library for your platform... using builtin-java classes where applicable\n"
     ]
    }
   ],
   "source": [
    "from pyspark.sql import SparkSession\n",
    "import os\n",
    "import subprocess\n",
    "import json\n",
    "import pyspark.sql.functions as psf\n",
    "spark = SparkSession.builder.getOrCreate()"
   ]
  },
  {
   "cell_type": "code",
   "execution_count": 5,
   "metadata": {},
   "outputs": [
    {
     "name": "stderr",
     "output_type": "stream",
     "text": [
      "24/09/12 16:19:05 WARN FileStreamSink: Assume no metadata directory. Error while looking for metadata directory in the path: s3://dataminded-academy-capstone-llm-data-us/input/airflow/questions.json.\n",
      "org.apache.hadoop.fs.UnsupportedFileSystemException: No FileSystem for scheme \"s3\"\n",
      "\tat org.apache.hadoop.fs.FileSystem.getFileSystemClass(FileSystem.java:3443)\n",
      "\tat org.apache.hadoop.fs.FileSystem.createFileSystem(FileSystem.java:3466)\n",
      "\tat org.apache.hadoop.fs.FileSystem.access$300(FileSystem.java:174)\n",
      "\tat org.apache.hadoop.fs.FileSystem$Cache.getInternal(FileSystem.java:3574)\n",
      "\tat org.apache.hadoop.fs.FileSystem$Cache.get(FileSystem.java:3521)\n",
      "\tat org.apache.hadoop.fs.FileSystem.get(FileSystem.java:540)\n",
      "\tat org.apache.hadoop.fs.Path.getFileSystem(Path.java:365)\n",
      "\tat org.apache.spark.sql.execution.streaming.FileStreamSink$.hasMetadata(FileStreamSink.scala:53)\n",
      "\tat org.apache.spark.sql.execution.datasources.DataSource.resolveRelation(DataSource.scala:366)\n",
      "\tat org.apache.spark.sql.DataFrameReader.loadV1Source(DataFrameReader.scala:229)\n",
      "\tat org.apache.spark.sql.DataFrameReader.$anonfun$load$2(DataFrameReader.scala:211)\n",
      "\tat scala.Option.getOrElse(Option.scala:189)\n",
      "\tat org.apache.spark.sql.DataFrameReader.load(DataFrameReader.scala:211)\n",
      "\tat org.apache.spark.sql.DataFrameReader.json(DataFrameReader.scala:362)\n",
      "\tat sun.reflect.NativeMethodAccessorImpl.invoke0(Native Method)\n",
      "\tat sun.reflect.NativeMethodAccessorImpl.invoke(NativeMethodAccessorImpl.java:62)\n",
      "\tat sun.reflect.DelegatingMethodAccessorImpl.invoke(DelegatingMethodAccessorImpl.java:43)\n",
      "\tat java.lang.reflect.Method.invoke(Method.java:498)\n",
      "\tat py4j.reflection.MethodInvoker.invoke(MethodInvoker.java:244)\n",
      "\tat py4j.reflection.ReflectionEngine.invoke(ReflectionEngine.java:374)\n",
      "\tat py4j.Gateway.invoke(Gateway.java:282)\n",
      "\tat py4j.commands.AbstractCommand.invokeMethod(AbstractCommand.java:132)\n",
      "\tat py4j.commands.CallCommand.execute(CallCommand.java:79)\n",
      "\tat py4j.ClientServerConnection.waitForCommands(ClientServerConnection.java:182)\n",
      "\tat py4j.ClientServerConnection.run(ClientServerConnection.java:106)\n",
      "\tat java.lang.Thread.run(Thread.java:750)\n"
     ]
    },
    {
     "ename": "Py4JJavaError",
     "evalue": "An error occurred while calling o31.json.\n: org.apache.hadoop.fs.UnsupportedFileSystemException: No FileSystem for scheme \"s3\"\n\tat org.apache.hadoop.fs.FileSystem.getFileSystemClass(FileSystem.java:3443)\n\tat org.apache.hadoop.fs.FileSystem.createFileSystem(FileSystem.java:3466)\n\tat org.apache.hadoop.fs.FileSystem.access$300(FileSystem.java:174)\n\tat org.apache.hadoop.fs.FileSystem$Cache.getInternal(FileSystem.java:3574)\n\tat org.apache.hadoop.fs.FileSystem$Cache.get(FileSystem.java:3521)\n\tat org.apache.hadoop.fs.FileSystem.get(FileSystem.java:540)\n\tat org.apache.hadoop.fs.Path.getFileSystem(Path.java:365)\n\tat org.apache.spark.sql.execution.datasources.DataSource$.$anonfun$checkAndGlobPathIfNecessary$1(DataSource.scala:724)\n\tat scala.collection.immutable.List.map(List.scala:293)\n\tat org.apache.spark.sql.execution.datasources.DataSource$.checkAndGlobPathIfNecessary(DataSource.scala:722)\n\tat org.apache.spark.sql.execution.datasources.DataSource.checkAndGlobPathIfNecessary(DataSource.scala:551)\n\tat org.apache.spark.sql.execution.datasources.DataSource.resolveRelation(DataSource.scala:404)\n\tat org.apache.spark.sql.DataFrameReader.loadV1Source(DataFrameReader.scala:229)\n\tat org.apache.spark.sql.DataFrameReader.$anonfun$load$2(DataFrameReader.scala:211)\n\tat scala.Option.getOrElse(Option.scala:189)\n\tat org.apache.spark.sql.DataFrameReader.load(DataFrameReader.scala:211)\n\tat org.apache.spark.sql.DataFrameReader.json(DataFrameReader.scala:362)\n\tat sun.reflect.NativeMethodAccessorImpl.invoke0(Native Method)\n\tat sun.reflect.NativeMethodAccessorImpl.invoke(NativeMethodAccessorImpl.java:62)\n\tat sun.reflect.DelegatingMethodAccessorImpl.invoke(DelegatingMethodAccessorImpl.java:43)\n\tat java.lang.reflect.Method.invoke(Method.java:498)\n\tat py4j.reflection.MethodInvoker.invoke(MethodInvoker.java:244)\n\tat py4j.reflection.ReflectionEngine.invoke(ReflectionEngine.java:374)\n\tat py4j.Gateway.invoke(Gateway.java:282)\n\tat py4j.commands.AbstractCommand.invokeMethod(AbstractCommand.java:132)\n\tat py4j.commands.CallCommand.execute(CallCommand.java:79)\n\tat py4j.ClientServerConnection.waitForCommands(ClientServerConnection.java:182)\n\tat py4j.ClientServerConnection.run(ClientServerConnection.java:106)\n\tat java.lang.Thread.run(Thread.java:750)\n",
     "output_type": "error",
     "traceback": [
      "\u001b[0;31m---------------------------------------------------------------------------\u001b[0m",
      "\u001b[0;31mPy4JJavaError\u001b[0m                             Traceback (most recent call last)",
      "Cell \u001b[0;32mIn[5], line 2\u001b[0m\n\u001b[1;32m      1\u001b[0m tag \u001b[38;5;241m=\u001b[39m \u001b[38;5;124m'\u001b[39m\u001b[38;5;124mairflow\u001b[39m\u001b[38;5;124m'\u001b[39m\n\u001b[0;32m----> 2\u001b[0m questions_in \u001b[38;5;241m=\u001b[39m \u001b[43mspark\u001b[49m\u001b[38;5;241;43m.\u001b[39;49m\u001b[43mread\u001b[49m\u001b[38;5;241;43m.\u001b[39;49m\u001b[43mjson\u001b[49m\u001b[43m(\u001b[49m\u001b[38;5;124;43mf\u001b[39;49m\u001b[38;5;124;43m\"\u001b[39;49m\u001b[38;5;124;43ms3://dataminded-academy-capstone-llm-data-us/input/\u001b[39;49m\u001b[38;5;132;43;01m{\u001b[39;49;00m\u001b[43mtag\u001b[49m\u001b[38;5;132;43;01m}\u001b[39;49;00m\u001b[38;5;124;43m/questions.json\u001b[39;49m\u001b[38;5;124;43m\"\u001b[39;49m\u001b[43m)\u001b[49m\n",
      "File \u001b[0;32m/workspace/capstone-llm/.venv/lib/python3.11/site-packages/pyspark/sql/readwriter.py:425\u001b[0m, in \u001b[0;36mDataFrameReader.json\u001b[0;34m(self, path, schema, primitivesAsString, prefersDecimal, allowComments, allowUnquotedFieldNames, allowSingleQuotes, allowNumericLeadingZero, allowBackslashEscapingAnyCharacter, mode, columnNameOfCorruptRecord, dateFormat, timestampFormat, multiLine, allowUnquotedControlChars, lineSep, samplingRatio, dropFieldIfAllNull, encoding, locale, pathGlobFilter, recursiveFileLookup, modifiedBefore, modifiedAfter, allowNonNumericNumbers)\u001b[0m\n\u001b[1;32m    423\u001b[0m \u001b[38;5;28;01mif\u001b[39;00m \u001b[38;5;28mtype\u001b[39m(path) \u001b[38;5;241m==\u001b[39m \u001b[38;5;28mlist\u001b[39m:\n\u001b[1;32m    424\u001b[0m     \u001b[38;5;28;01massert\u001b[39;00m \u001b[38;5;28mself\u001b[39m\u001b[38;5;241m.\u001b[39m_spark\u001b[38;5;241m.\u001b[39m_sc\u001b[38;5;241m.\u001b[39m_jvm \u001b[38;5;129;01mis\u001b[39;00m \u001b[38;5;129;01mnot\u001b[39;00m \u001b[38;5;28;01mNone\u001b[39;00m\n\u001b[0;32m--> 425\u001b[0m     \u001b[38;5;28;01mreturn\u001b[39;00m \u001b[38;5;28mself\u001b[39m\u001b[38;5;241m.\u001b[39m_df(\u001b[38;5;28;43mself\u001b[39;49m\u001b[38;5;241;43m.\u001b[39;49m\u001b[43m_jreader\u001b[49m\u001b[38;5;241;43m.\u001b[39;49m\u001b[43mjson\u001b[49m\u001b[43m(\u001b[49m\u001b[38;5;28;43mself\u001b[39;49m\u001b[38;5;241;43m.\u001b[39;49m\u001b[43m_spark\u001b[49m\u001b[38;5;241;43m.\u001b[39;49m\u001b[43m_sc\u001b[49m\u001b[38;5;241;43m.\u001b[39;49m\u001b[43m_jvm\u001b[49m\u001b[38;5;241;43m.\u001b[39;49m\u001b[43mPythonUtils\u001b[49m\u001b[38;5;241;43m.\u001b[39;49m\u001b[43mtoSeq\u001b[49m\u001b[43m(\u001b[49m\u001b[43mpath\u001b[49m\u001b[43m)\u001b[49m\u001b[43m)\u001b[49m)\n\u001b[1;32m    426\u001b[0m \u001b[38;5;28;01melif\u001b[39;00m \u001b[38;5;28misinstance\u001b[39m(path, RDD):\n\u001b[1;32m    428\u001b[0m     \u001b[38;5;28;01mdef\u001b[39;00m \u001b[38;5;21mfunc\u001b[39m(iterator: Iterable) \u001b[38;5;241m-\u001b[39m\u001b[38;5;241m>\u001b[39m Iterable:\n",
      "File \u001b[0;32m/workspace/capstone-llm/.venv/lib/python3.11/site-packages/py4j/java_gateway.py:1322\u001b[0m, in \u001b[0;36mJavaMember.__call__\u001b[0;34m(self, *args)\u001b[0m\n\u001b[1;32m   1316\u001b[0m command \u001b[38;5;241m=\u001b[39m proto\u001b[38;5;241m.\u001b[39mCALL_COMMAND_NAME \u001b[38;5;241m+\u001b[39m\\\n\u001b[1;32m   1317\u001b[0m     \u001b[38;5;28mself\u001b[39m\u001b[38;5;241m.\u001b[39mcommand_header \u001b[38;5;241m+\u001b[39m\\\n\u001b[1;32m   1318\u001b[0m     args_command \u001b[38;5;241m+\u001b[39m\\\n\u001b[1;32m   1319\u001b[0m     proto\u001b[38;5;241m.\u001b[39mEND_COMMAND_PART\n\u001b[1;32m   1321\u001b[0m answer \u001b[38;5;241m=\u001b[39m \u001b[38;5;28mself\u001b[39m\u001b[38;5;241m.\u001b[39mgateway_client\u001b[38;5;241m.\u001b[39msend_command(command)\n\u001b[0;32m-> 1322\u001b[0m return_value \u001b[38;5;241m=\u001b[39m \u001b[43mget_return_value\u001b[49m\u001b[43m(\u001b[49m\n\u001b[1;32m   1323\u001b[0m \u001b[43m    \u001b[49m\u001b[43manswer\u001b[49m\u001b[43m,\u001b[49m\u001b[43m \u001b[49m\u001b[38;5;28;43mself\u001b[39;49m\u001b[38;5;241;43m.\u001b[39;49m\u001b[43mgateway_client\u001b[49m\u001b[43m,\u001b[49m\u001b[43m \u001b[49m\u001b[38;5;28;43mself\u001b[39;49m\u001b[38;5;241;43m.\u001b[39;49m\u001b[43mtarget_id\u001b[49m\u001b[43m,\u001b[49m\u001b[43m \u001b[49m\u001b[38;5;28;43mself\u001b[39;49m\u001b[38;5;241;43m.\u001b[39;49m\u001b[43mname\u001b[49m\u001b[43m)\u001b[49m\n\u001b[1;32m   1325\u001b[0m \u001b[38;5;28;01mfor\u001b[39;00m temp_arg \u001b[38;5;129;01min\u001b[39;00m temp_args:\n\u001b[1;32m   1326\u001b[0m     \u001b[38;5;28;01mif\u001b[39;00m \u001b[38;5;28mhasattr\u001b[39m(temp_arg, \u001b[38;5;124m\"\u001b[39m\u001b[38;5;124m_detach\u001b[39m\u001b[38;5;124m\"\u001b[39m):\n",
      "File \u001b[0;32m/workspace/capstone-llm/.venv/lib/python3.11/site-packages/pyspark/errors/exceptions/captured.py:179\u001b[0m, in \u001b[0;36mcapture_sql_exception.<locals>.deco\u001b[0;34m(*a, **kw)\u001b[0m\n\u001b[1;32m    177\u001b[0m \u001b[38;5;28;01mdef\u001b[39;00m \u001b[38;5;21mdeco\u001b[39m(\u001b[38;5;241m*\u001b[39ma: Any, \u001b[38;5;241m*\u001b[39m\u001b[38;5;241m*\u001b[39mkw: Any) \u001b[38;5;241m-\u001b[39m\u001b[38;5;241m>\u001b[39m Any:\n\u001b[1;32m    178\u001b[0m     \u001b[38;5;28;01mtry\u001b[39;00m:\n\u001b[0;32m--> 179\u001b[0m         \u001b[38;5;28;01mreturn\u001b[39;00m \u001b[43mf\u001b[49m\u001b[43m(\u001b[49m\u001b[38;5;241;43m*\u001b[39;49m\u001b[43ma\u001b[49m\u001b[43m,\u001b[49m\u001b[43m \u001b[49m\u001b[38;5;241;43m*\u001b[39;49m\u001b[38;5;241;43m*\u001b[39;49m\u001b[43mkw\u001b[49m\u001b[43m)\u001b[49m\n\u001b[1;32m    180\u001b[0m     \u001b[38;5;28;01mexcept\u001b[39;00m Py4JJavaError \u001b[38;5;28;01mas\u001b[39;00m e:\n\u001b[1;32m    181\u001b[0m         converted \u001b[38;5;241m=\u001b[39m convert_exception(e\u001b[38;5;241m.\u001b[39mjava_exception)\n",
      "File \u001b[0;32m/workspace/capstone-llm/.venv/lib/python3.11/site-packages/py4j/protocol.py:326\u001b[0m, in \u001b[0;36mget_return_value\u001b[0;34m(answer, gateway_client, target_id, name)\u001b[0m\n\u001b[1;32m    324\u001b[0m value \u001b[38;5;241m=\u001b[39m OUTPUT_CONVERTER[\u001b[38;5;28mtype\u001b[39m](answer[\u001b[38;5;241m2\u001b[39m:], gateway_client)\n\u001b[1;32m    325\u001b[0m \u001b[38;5;28;01mif\u001b[39;00m answer[\u001b[38;5;241m1\u001b[39m] \u001b[38;5;241m==\u001b[39m REFERENCE_TYPE:\n\u001b[0;32m--> 326\u001b[0m     \u001b[38;5;28;01mraise\u001b[39;00m Py4JJavaError(\n\u001b[1;32m    327\u001b[0m         \u001b[38;5;124m\"\u001b[39m\u001b[38;5;124mAn error occurred while calling \u001b[39m\u001b[38;5;132;01m{0}\u001b[39;00m\u001b[38;5;132;01m{1}\u001b[39;00m\u001b[38;5;132;01m{2}\u001b[39;00m\u001b[38;5;124m.\u001b[39m\u001b[38;5;130;01m\\n\u001b[39;00m\u001b[38;5;124m\"\u001b[39m\u001b[38;5;241m.\u001b[39m\n\u001b[1;32m    328\u001b[0m         \u001b[38;5;28mformat\u001b[39m(target_id, \u001b[38;5;124m\"\u001b[39m\u001b[38;5;124m.\u001b[39m\u001b[38;5;124m\"\u001b[39m, name), value)\n\u001b[1;32m    329\u001b[0m \u001b[38;5;28;01melse\u001b[39;00m:\n\u001b[1;32m    330\u001b[0m     \u001b[38;5;28;01mraise\u001b[39;00m Py4JError(\n\u001b[1;32m    331\u001b[0m         \u001b[38;5;124m\"\u001b[39m\u001b[38;5;124mAn error occurred while calling \u001b[39m\u001b[38;5;132;01m{0}\u001b[39;00m\u001b[38;5;132;01m{1}\u001b[39;00m\u001b[38;5;132;01m{2}\u001b[39;00m\u001b[38;5;124m. Trace:\u001b[39m\u001b[38;5;130;01m\\n\u001b[39;00m\u001b[38;5;132;01m{3}\u001b[39;00m\u001b[38;5;130;01m\\n\u001b[39;00m\u001b[38;5;124m\"\u001b[39m\u001b[38;5;241m.\u001b[39m\n\u001b[1;32m    332\u001b[0m         \u001b[38;5;28mformat\u001b[39m(target_id, \u001b[38;5;124m\"\u001b[39m\u001b[38;5;124m.\u001b[39m\u001b[38;5;124m\"\u001b[39m, name, value))\n",
      "\u001b[0;31mPy4JJavaError\u001b[0m: An error occurred while calling o31.json.\n: org.apache.hadoop.fs.UnsupportedFileSystemException: No FileSystem for scheme \"s3\"\n\tat org.apache.hadoop.fs.FileSystem.getFileSystemClass(FileSystem.java:3443)\n\tat org.apache.hadoop.fs.FileSystem.createFileSystem(FileSystem.java:3466)\n\tat org.apache.hadoop.fs.FileSystem.access$300(FileSystem.java:174)\n\tat org.apache.hadoop.fs.FileSystem$Cache.getInternal(FileSystem.java:3574)\n\tat org.apache.hadoop.fs.FileSystem$Cache.get(FileSystem.java:3521)\n\tat org.apache.hadoop.fs.FileSystem.get(FileSystem.java:540)\n\tat org.apache.hadoop.fs.Path.getFileSystem(Path.java:365)\n\tat org.apache.spark.sql.execution.datasources.DataSource$.$anonfun$checkAndGlobPathIfNecessary$1(DataSource.scala:724)\n\tat scala.collection.immutable.List.map(List.scala:293)\n\tat org.apache.spark.sql.execution.datasources.DataSource$.checkAndGlobPathIfNecessary(DataSource.scala:722)\n\tat org.apache.spark.sql.execution.datasources.DataSource.checkAndGlobPathIfNecessary(DataSource.scala:551)\n\tat org.apache.spark.sql.execution.datasources.DataSource.resolveRelation(DataSource.scala:404)\n\tat org.apache.spark.sql.DataFrameReader.loadV1Source(DataFrameReader.scala:229)\n\tat org.apache.spark.sql.DataFrameReader.$anonfun$load$2(DataFrameReader.scala:211)\n\tat scala.Option.getOrElse(Option.scala:189)\n\tat org.apache.spark.sql.DataFrameReader.load(DataFrameReader.scala:211)\n\tat org.apache.spark.sql.DataFrameReader.json(DataFrameReader.scala:362)\n\tat sun.reflect.NativeMethodAccessorImpl.invoke0(Native Method)\n\tat sun.reflect.NativeMethodAccessorImpl.invoke(NativeMethodAccessorImpl.java:62)\n\tat sun.reflect.DelegatingMethodAccessorImpl.invoke(DelegatingMethodAccessorImpl.java:43)\n\tat java.lang.reflect.Method.invoke(Method.java:498)\n\tat py4j.reflection.MethodInvoker.invoke(MethodInvoker.java:244)\n\tat py4j.reflection.ReflectionEngine.invoke(ReflectionEngine.java:374)\n\tat py4j.Gateway.invoke(Gateway.java:282)\n\tat py4j.commands.AbstractCommand.invokeMethod(AbstractCommand.java:132)\n\tat py4j.commands.CallCommand.execute(CallCommand.java:79)\n\tat py4j.ClientServerConnection.waitForCommands(ClientServerConnection.java:182)\n\tat py4j.ClientServerConnection.run(ClientServerConnection.java:106)\n\tat java.lang.Thread.run(Thread.java:750)\n"
     ]
    }
   ],
   "source": [
    "tag = 'airflow'\n",
    "questions_in = spark.read.json(f\"s3://dataminded-academy-capstone-llm-data-us/input/{tag}/questions.json\")"
   ]
  },
  {
   "cell_type": "code",
   "execution_count": 15,
   "metadata": {},
   "outputs": [],
   "source": [
    "if not os.path.isfile(\"./data_in/airflow/questions.json\"):\n",
    "    subprocess.run([\"aws\", \"s3\", \"cp\", \"s3://dataminded-academy-capstone-llm-data-us/input/airflow/questions.json\", \"./data_in/airflow/\"])\n",
    "if not os.path.isfile(\"./data_in/airflow/answers.json\"):\n",
    "    subprocess.run([\"aws\", \"s3\", \"cp\", \"s3://dataminded-academy-capstone-llm-data-us/input/airflow/answers.json\", \"./data_in/airflow/\"])"
   ]
  },
  {
   "cell_type": "code",
   "execution_count": 16,
   "metadata": {},
   "outputs": [],
   "source": [
    "questions_obj = spark.read.json(\"./data_in/airflow/questions.json\")\n",
    "answers_obj = spark.read.json(\"./data_in/airflow/answers.json\")"
   ]
  },
  {
   "cell_type": "code",
   "execution_count": 17,
   "metadata": {},
   "outputs": [
    {
     "name": "stdout",
     "output_type": "stream",
     "text": [
      "62\n"
     ]
    }
   ],
   "source": [
    "questions = ( \n",
    "    questions_obj\n",
    "        .select(psf.explode(questions_obj.items).alias(\"items\"))\n",
    "        .filter(psf.col(\"items.accepted_answer_id\").isNotNull())\n",
    "        .select(psf.col(\"items.body\").alias(\"question\"), \"items.title\", \"items.is_answered\", \"items.accepted_answer_id\")\n",
    ")\n",
    "print(questions.count())"
   ]
  },
  {
   "cell_type": "code",
   "execution_count": 18,
   "metadata": {},
   "outputs": [
    {
     "name": "stdout",
     "output_type": "stream",
     "text": [
      "30\n"
     ]
    }
   ],
   "source": [
    "answers = ( \n",
    "    answers_obj\n",
    "        .select(psf.explode(answers_obj.items).alias(\"items\"))\n",
    "        .select(psf.col(\"items.body\").alias(\"answer\"), \"items.answer_id\", \"items.question_id\")\n",
    ")\n",
    "print(answers.count())"
   ]
  },
  {
   "cell_type": "code",
   "execution_count": 19,
   "metadata": {},
   "outputs": [
    {
     "name": "stdout",
     "output_type": "stream",
     "text": [
      "21\n",
      "+--------------------+--------------------+--------------------+\n",
      "|               title|            question|              answer|\n",
      "+--------------------+--------------------+--------------------+\n",
      "|Airflow: how to d...|<p>I have started...|<p><strong>Edit 8...|\n",
      "|execution_date in...|<p>I am really a ...|<p>The <code>Bash...|\n",
      "|Apache Airflow or...|<p>I'm trying to ...|<p>The other answ...|\n",
      "|How to create a c...|<p>I would like t...|<p>You have to us...|\n",
      "|How to prevent ai...|<p>Say you have a...|<p>Upgrade to air...|\n",
      "|First time login ...|<p>I've just inst...|<p>There is no de...|\n",
      "|How to control th...|<p>In some of my ...|<p>Here's an expa...|\n",
      "|Writing to Airflo...|<p>One way to wri...|<p>You can import...|\n",
      "|Airflow - How to ...|<p>I need to refe...|<p>Templates like...|\n",
      "|Airflow s3 connec...|<p>I've been tryi...|<p>EDIT: This ans...|\n",
      "|Airflow versus AW...|<p>I am working o...|<p>I have worked ...|\n",
      "|Error while insta...|<p>Getting the fo...|<p>Try the follow...|\n",
      "|How to restart a ...|<p>I am using a <...|<p>In the UI:</p>...|\n",
      "| Airflow parallelism|<p>the Local Exec...|<p><strong>parall...|\n",
      "|For Apache Airflo...|<p>I use Airflow ...|<p>You can pass p...|\n",
      "|Efficient way to ...|<p>Are there any ...|<p>Here is how we...|\n",
      "|Airflow backfill ...|<p>I'm just getti...|<p>When you chang...|\n",
      "|TemplateNotFound ...|<p>I'm trying to ...|<p>This is a pitf...|\n",
      "|How to pass param...|<p>I just started...|<ol>\\n<li>Pass a ...|\n",
      "|How to set up Air...|<p>I followed onl...|<p><strong>Settin...|\n",
      "+--------------------+--------------------+--------------------+\n",
      "only showing top 20 rows\n",
      "\n"
     ]
    }
   ],
   "source": [
    "output = questions.join(answers, on=(questions.accepted_answer_id == answers.answer_id)).select(\"title\", \"question\", \"answer\")\n",
    "print(output.count())\n",
    "output.show()"
   ]
  },
  {
   "cell_type": "code",
   "execution_count": 20,
   "metadata": {},
   "outputs": [
    {
     "name": "stderr",
     "output_type": "stream",
     "text": [
      "                                                                                \r"
     ]
    }
   ],
   "source": [
    "output.repartition(output.count()).write.mode(\"overwrite\").json(\"./data_out/\")"
   ]
  },
  {
   "cell_type": "code",
   "execution_count": 22,
   "metadata": {},
   "outputs": [
    {
     "ename": "FileNotFoundError",
     "evalue": "[Errno 2] No such file or directory: './data_out/airflow/'",
     "output_type": "error",
     "traceback": [
      "\u001b[0;31m---------------------------------------------------------------------------\u001b[0m",
      "\u001b[0;31mFileNotFoundError\u001b[0m                         Traceback (most recent call last)",
      "Cell \u001b[0;32mIn[22], line 1\u001b[0m\n\u001b[0;32m----> 1\u001b[0m \u001b[38;5;28;01mfor\u001b[39;00m filename \u001b[38;5;129;01min\u001b[39;00m \u001b[43mos\u001b[49m\u001b[38;5;241;43m.\u001b[39;49m\u001b[43mlistdir\u001b[49m\u001b[43m(\u001b[49m\u001b[38;5;124;43m\"\u001b[39;49m\u001b[38;5;124;43m./data_out/airflow/\u001b[39;49m\u001b[38;5;124;43m\"\u001b[39;49m\u001b[43m)\u001b[49m:\n\u001b[1;32m      2\u001b[0m     \u001b[38;5;28;01mif\u001b[39;00m \u001b[38;5;129;01mnot\u001b[39;00m filename\u001b[38;5;241m.\u001b[39mendswith(\u001b[38;5;124m\"\u001b[39m\u001b[38;5;124m.json\u001b[39m\u001b[38;5;124m\"\u001b[39m):\n\u001b[1;32m      3\u001b[0m         os\u001b[38;5;241m.\u001b[39mremove(os\u001b[38;5;241m.\u001b[39mpath\u001b[38;5;241m.\u001b[39mjoin(\u001b[38;5;124m\"\u001b[39m\u001b[38;5;124m./data_out/airflow/\u001b[39m\u001b[38;5;124m\"\u001b[39m, filename))\n",
      "\u001b[0;31mFileNotFoundError\u001b[0m: [Errno 2] No such file or directory: './data_out/airflow/'"
     ]
    }
   ],
   "source": [
    "for filename in os.listdir(\"./data_out/airflow/\"):\n",
    "    if not filename.endswith(\".json\"):\n",
    "        os.remove(os.path.join(\"./data_out/airflow/\", filename))"
   ]
  },
  {
   "cell_type": "code",
   "execution_count": 13,
   "metadata": {},
   "outputs": [
    {
     "name": "stdout",
     "output_type": "stream",
     "text": [
      "uploading part-00000-5bf065cc-ea5d-4b28-8b1c-3522234ac00b-c000.json\n"
     ]
    },
    {
     "name": "stderr",
     "output_type": "stream",
     "text": [
      "\n",
      "The user-provided path ./data_in/airflow/part-00000-5bf065cc-ea5d-4b28-8b1c-3522234ac00b-c000.json does not exist.\n"
     ]
    },
    {
     "name": "stdout",
     "output_type": "stream",
     "text": [
      "uploading part-00001-5bf065cc-ea5d-4b28-8b1c-3522234ac00b-c000.json\n"
     ]
    },
    {
     "name": "stderr",
     "output_type": "stream",
     "text": [
      "\n",
      "The user-provided path ./data_in/airflow/part-00001-5bf065cc-ea5d-4b28-8b1c-3522234ac00b-c000.json does not exist.\n"
     ]
    },
    {
     "name": "stdout",
     "output_type": "stream",
     "text": [
      "uploading part-00002-5bf065cc-ea5d-4b28-8b1c-3522234ac00b-c000.json\n"
     ]
    },
    {
     "name": "stderr",
     "output_type": "stream",
     "text": [
      "\n",
      "The user-provided path ./data_in/airflow/part-00002-5bf065cc-ea5d-4b28-8b1c-3522234ac00b-c000.json does not exist.\n"
     ]
    },
    {
     "name": "stdout",
     "output_type": "stream",
     "text": [
      "uploading part-00003-5bf065cc-ea5d-4b28-8b1c-3522234ac00b-c000.json\n"
     ]
    },
    {
     "name": "stderr",
     "output_type": "stream",
     "text": [
      "\n",
      "The user-provided path ./data_in/airflow/part-00003-5bf065cc-ea5d-4b28-8b1c-3522234ac00b-c000.json does not exist.\n"
     ]
    },
    {
     "name": "stdout",
     "output_type": "stream",
     "text": [
      "uploading part-00004-5bf065cc-ea5d-4b28-8b1c-3522234ac00b-c000.json\n"
     ]
    },
    {
     "name": "stderr",
     "output_type": "stream",
     "text": [
      "\n",
      "The user-provided path ./data_in/airflow/part-00004-5bf065cc-ea5d-4b28-8b1c-3522234ac00b-c000.json does not exist.\n"
     ]
    },
    {
     "name": "stdout",
     "output_type": "stream",
     "text": [
      "uploading part-00005-5bf065cc-ea5d-4b28-8b1c-3522234ac00b-c000.json\n"
     ]
    },
    {
     "name": "stderr",
     "output_type": "stream",
     "text": [
      "\n",
      "The user-provided path ./data_in/airflow/part-00005-5bf065cc-ea5d-4b28-8b1c-3522234ac00b-c000.json does not exist.\n"
     ]
    },
    {
     "name": "stdout",
     "output_type": "stream",
     "text": [
      "uploading part-00006-5bf065cc-ea5d-4b28-8b1c-3522234ac00b-c000.json\n"
     ]
    },
    {
     "name": "stderr",
     "output_type": "stream",
     "text": [
      "\n",
      "The user-provided path ./data_in/airflow/part-00006-5bf065cc-ea5d-4b28-8b1c-3522234ac00b-c000.json does not exist.\n"
     ]
    },
    {
     "name": "stdout",
     "output_type": "stream",
     "text": [
      "uploading part-00007-5bf065cc-ea5d-4b28-8b1c-3522234ac00b-c000.json\n"
     ]
    },
    {
     "name": "stderr",
     "output_type": "stream",
     "text": [
      "\n",
      "The user-provided path ./data_in/airflow/part-00007-5bf065cc-ea5d-4b28-8b1c-3522234ac00b-c000.json does not exist.\n"
     ]
    },
    {
     "name": "stdout",
     "output_type": "stream",
     "text": [
      "uploading part-00008-5bf065cc-ea5d-4b28-8b1c-3522234ac00b-c000.json\n"
     ]
    },
    {
     "name": "stderr",
     "output_type": "stream",
     "text": [
      "\n",
      "The user-provided path ./data_in/airflow/part-00008-5bf065cc-ea5d-4b28-8b1c-3522234ac00b-c000.json does not exist.\n"
     ]
    },
    {
     "name": "stdout",
     "output_type": "stream",
     "text": [
      "uploading part-00009-5bf065cc-ea5d-4b28-8b1c-3522234ac00b-c000.json\n"
     ]
    },
    {
     "name": "stderr",
     "output_type": "stream",
     "text": [
      "\n",
      "The user-provided path ./data_in/airflow/part-00009-5bf065cc-ea5d-4b28-8b1c-3522234ac00b-c000.json does not exist.\n"
     ]
    },
    {
     "name": "stdout",
     "output_type": "stream",
     "text": [
      "uploading part-00010-5bf065cc-ea5d-4b28-8b1c-3522234ac00b-c000.json\n"
     ]
    },
    {
     "name": "stderr",
     "output_type": "stream",
     "text": [
      "\n",
      "The user-provided path ./data_in/airflow/part-00010-5bf065cc-ea5d-4b28-8b1c-3522234ac00b-c000.json does not exist.\n"
     ]
    },
    {
     "name": "stdout",
     "output_type": "stream",
     "text": [
      "uploading part-00011-5bf065cc-ea5d-4b28-8b1c-3522234ac00b-c000.json\n"
     ]
    },
    {
     "name": "stderr",
     "output_type": "stream",
     "text": [
      "\n",
      "The user-provided path ./data_in/airflow/part-00011-5bf065cc-ea5d-4b28-8b1c-3522234ac00b-c000.json does not exist.\n"
     ]
    },
    {
     "name": "stdout",
     "output_type": "stream",
     "text": [
      "uploading part-00012-5bf065cc-ea5d-4b28-8b1c-3522234ac00b-c000.json\n"
     ]
    },
    {
     "name": "stderr",
     "output_type": "stream",
     "text": [
      "\n",
      "The user-provided path ./data_in/airflow/part-00012-5bf065cc-ea5d-4b28-8b1c-3522234ac00b-c000.json does not exist.\n"
     ]
    },
    {
     "name": "stdout",
     "output_type": "stream",
     "text": [
      "uploading part-00013-5bf065cc-ea5d-4b28-8b1c-3522234ac00b-c000.json\n"
     ]
    },
    {
     "name": "stderr",
     "output_type": "stream",
     "text": [
      "\n",
      "The user-provided path ./data_in/airflow/part-00013-5bf065cc-ea5d-4b28-8b1c-3522234ac00b-c000.json does not exist.\n"
     ]
    },
    {
     "name": "stdout",
     "output_type": "stream",
     "text": [
      "uploading part-00014-5bf065cc-ea5d-4b28-8b1c-3522234ac00b-c000.json\n"
     ]
    },
    {
     "name": "stderr",
     "output_type": "stream",
     "text": [
      "\n",
      "The user-provided path ./data_in/airflow/part-00014-5bf065cc-ea5d-4b28-8b1c-3522234ac00b-c000.json does not exist.\n"
     ]
    },
    {
     "name": "stdout",
     "output_type": "stream",
     "text": [
      "uploading part-00015-5bf065cc-ea5d-4b28-8b1c-3522234ac00b-c000.json\n"
     ]
    },
    {
     "name": "stderr",
     "output_type": "stream",
     "text": [
      "\n",
      "The user-provided path ./data_in/airflow/part-00015-5bf065cc-ea5d-4b28-8b1c-3522234ac00b-c000.json does not exist.\n"
     ]
    },
    {
     "name": "stdout",
     "output_type": "stream",
     "text": [
      "uploading part-00016-5bf065cc-ea5d-4b28-8b1c-3522234ac00b-c000.json\n"
     ]
    },
    {
     "name": "stderr",
     "output_type": "stream",
     "text": [
      "\n",
      "The user-provided path ./data_in/airflow/part-00016-5bf065cc-ea5d-4b28-8b1c-3522234ac00b-c000.json does not exist.\n"
     ]
    },
    {
     "name": "stdout",
     "output_type": "stream",
     "text": [
      "uploading part-00017-5bf065cc-ea5d-4b28-8b1c-3522234ac00b-c000.json\n"
     ]
    },
    {
     "name": "stderr",
     "output_type": "stream",
     "text": [
      "\n",
      "The user-provided path ./data_in/airflow/part-00017-5bf065cc-ea5d-4b28-8b1c-3522234ac00b-c000.json does not exist.\n"
     ]
    },
    {
     "name": "stdout",
     "output_type": "stream",
     "text": [
      "uploading part-00018-5bf065cc-ea5d-4b28-8b1c-3522234ac00b-c000.json\n"
     ]
    },
    {
     "name": "stderr",
     "output_type": "stream",
     "text": [
      "\n",
      "The user-provided path ./data_in/airflow/part-00018-5bf065cc-ea5d-4b28-8b1c-3522234ac00b-c000.json does not exist.\n"
     ]
    },
    {
     "name": "stdout",
     "output_type": "stream",
     "text": [
      "uploading part-00019-5bf065cc-ea5d-4b28-8b1c-3522234ac00b-c000.json\n"
     ]
    },
    {
     "name": "stderr",
     "output_type": "stream",
     "text": [
      "\n",
      "The user-provided path ./data_in/airflow/part-00019-5bf065cc-ea5d-4b28-8b1c-3522234ac00b-c000.json does not exist.\n"
     ]
    },
    {
     "name": "stdout",
     "output_type": "stream",
     "text": [
      "uploading part-00020-5bf065cc-ea5d-4b28-8b1c-3522234ac00b-c000.json\n"
     ]
    },
    {
     "name": "stderr",
     "output_type": "stream",
     "text": [
      "\n",
      "The user-provided path ./data_in/airflow/part-00020-5bf065cc-ea5d-4b28-8b1c-3522234ac00b-c000.json does not exist.\n"
     ]
    }
   ],
   "source": [
    "for filename in os.listdir(\"./data_out\"):\n",
    "    f = os.path.join(\"./data_out\", filename)\n",
    "    if os.path.isfile(f) and filename.split('.').pop() == 'json':\n",
    "        print(\"uploading \" + filename)\n",
    "        subprocess.run([\"aws\", \"s3\", \"cp\", \"./data_in/airflow/\"+filename, \"s3://dataminded-academy-capstone-llm-data-us/cleaned/thomas/airflow/\"])"
   ]
  },
  {
   "cell_type": "code",
   "execution_count": 4,
   "metadata": {},
   "outputs": [
    {
     "name": "stdout",
     "output_type": "stream",
     "text": [
      "{'items': [{'tags': ['ios', 'swift', 'uitableview', 'uikit', 'uistackview'], 'owner': {'account_id': 1459679, 'reputation': 4810, 'user_id': 1374327, 'user_type': 'registered', 'accept_rate': 95, 'profile_image': 'https://i.sstatic.net/2x0LX.jpg?s=256', 'display_name': 'NSPratik', 'link': 'https://stackoverflow.com/users/1374327/nspratik'}, 'is_answered': False, 'view_count': 1, 'answer_count': 0, 'score': 0, 'last_activity_date': 1726217628, 'creation_date': 1726217628, 'question_id': 78981401, 'content_license': 'CC BY-SA 4.0', 'link': 'https://stackoverflow.com/questions/78981401/how-to-dynamically-add-rows-to-uitableviewcell-in-efficient-manner', 'title': 'How to dynamically add rows to UITableviewCell in efficient manner?'}, {'tags': ['ios', 'swift', 'flutter', 'swiftui', 'mobile'], 'owner': {'account_id': 20433210, 'reputation': 33, 'user_id': 14991711, 'user_type': 'registered', 'profile_image': 'https://lh3.googleusercontent.com/a-/AOh14Gi5H4cyU7JbhszeeAXyUFdaMEtMbV99P0mquzfg=k-s256', 'display_name': 'Aleksandrs', 'link': 'https://stackoverflow.com/users/14991711/aleksandrs'}, 'is_answered': False, 'view_count': 22, 'answer_count': 1, 'score': 0, 'last_activity_date': 1726217621, 'creation_date': 1726203892, 'question_id': 78980700, 'content_license': 'CC BY-SA 4.0', 'link': 'https://stackoverflow.com/questions/78980700/swiftui-view-adding-trailing-and-leading-icons', 'title': 'SwiftUI view adding trailing and leading icons'}, {'tags': ['r', 'magrittr'], 'owner': {'account_id': 3467393, 'reputation': 194, 'user_id': 20199553, 'user_type': 'registered', 'profile_image': 'https://www.gravatar.com/avatar/5bf4bcc5983324d7f18218dbcda91ab3?s=256&d=identicon&r=PG&f=y&so-version=2', 'display_name': 'Ralph', 'link': 'https://stackoverflow.com/users/20199553/ralph'}, 'is_answered': False, 'view_count': 35, 'answer_count': 1, 'score': 0, 'last_activity_date': 1726217616, 'creation_date': 1726179051, 'question_id': 78980079, 'content_license': 'CC BY-SA 4.0', 'link': 'https://stackoverflow.com/questions/78980079/a-magrittr-pipe-that-adds-side-effect-functionality-to', 'title': 'A magrittr pipe that adds side-effect functionality to %&gt;%'}, {'tags': ['html', 'angular', 'typescript', 'angular17'], 'owner': {'account_id': 15741928, 'reputation': 9376, 'user_id': 11359076, 'user_type': 'registered', 'profile_image': 'https://i.sstatic.net/Lpy7M.jpg?s=256', 'display_name': 'Alireza Ahmadi', 'link': 'https://stackoverflow.com/users/11359076/alireza-ahmadi'}, 'is_answered': True, 'view_count': 9548, 'accepted_answer_id': 78009103, 'answer_count': 3, 'score': 10, 'last_activity_date': 1726217615, 'creation_date': 1708095977, 'question_id': 78008274, 'content_license': 'CC BY-SA 4.0', 'link': 'https://stackoverflow.com/questions/78008274/how-to-use-index-in-for-in-html-angular-17', 'title': 'How to use index in @for in html angular 17'}, {'tags': ['python', 'python-3.x', 'pytorch', 'torch', 'nonblocking'], 'owner': {'account_id': 1141220, 'reputation': 4613, 'user_id': 1125062, 'user_type': 'registered', 'accept_rate': 88, 'profile_image': 'https://www.gravatar.com/avatar/6050a002aa7ed993d07c972528075b6b?s=256&d=identicon&r=PG', 'display_name': 'Anonymous', 'link': 'https://stackoverflow.com/users/1125062/anonymous'}, 'is_answered': False, 'view_count': 10, 'answer_count': 1, 'score': 1, 'last_activity_date': 1726217602, 'creation_date': 1726211408, 'question_id': 78981052, 'content_license': 'CC BY-SA 4.0', 'link': 'https://stackoverflow.com/questions/78981052/pytorch-incorrect-results-with-non-blocking-assignment-from-cuda-to-cpu', 'title': 'Pytorch incorrect results with non_blocking assignment from Cuda to CPU'}, {'tags': ['abap', 'sapscript'], 'owner': {'account_id': 7732499, 'reputation': 715, 'user_id': 5855129, 'user_type': 'registered', 'profile_image': 'https://www.gravatar.com/avatar/9a1d268f52edfbe3217852c0ac506a7c?s=256&d=identicon&r=PG&f=y&so-version=2', 'display_name': 'Schesam', 'link': 'https://stackoverflow.com/users/5855129/schesam'}, 'is_answered': True, 'view_count': 67, 'accepted_answer_id': 78940222, 'answer_count': 1, 'score': 0, 'last_activity_date': 1726217597, 'creation_date': 1724772867, 'last_edit_date': 1724851954, 'question_id': 78919674, 'content_license': 'CC BY-SA 4.0', 'link': 'https://stackoverflow.com/questions/78919674/how-to-upload-a-bmp-or-any-other-format-with-transparent-background-to-se78', 'title': 'How to upload a BMP (or any other format) with transparent Background to SE78?'}, {'tags': ['apache-spark', 'azure-databricks', 'mssql-jdbc'], 'owner': {'account_id': 7920241, 'reputation': 11, 'user_id': 5981462, 'user_type': 'registered', 'profile_image': 'https://graph.facebook.com/1291939207490325/picture?type=large', 'display_name': 'chabin', 'link': 'https://stackoverflow.com/users/5981462/chabin'}, 'is_answered': False, 'view_count': 31, 'answer_count': 1, 'score': 0, 'last_activity_date': 1726217588, 'creation_date': 1726153965, 'last_edit_date': 1726154656, 'question_id': 78978843, 'content_license': 'CC BY-SA 4.0', 'link': 'https://stackoverflow.com/questions/78978843/dataframe-write-to-azure-sql-row-by-row-performance', 'title': 'DataFrame write to Azure-SQL row-by-row performance'}, {'tags': ['reactjs', 'react-hooks'], 'owner': {'account_id': 16425995, 'reputation': 1648, 'user_id': 11866037, 'user_type': 'registered', 'profile_image': 'https://lh5.googleusercontent.com/-sc_EOWFnATk/AAAAAAAAAAI/AAAAAAAAFfo/nT7l79YYKMc/photo.jpg?sz=256', 'display_name': 'Kaung Khant Zaw', 'link': 'https://stackoverflow.com/users/11866037/kaung-khant-zaw'}, 'is_answered': True, 'view_count': 8973, 'accepted_answer_id': 68235523, 'answer_count': 2, 'score': 8, 'last_activity_date': 1726217584, 'creation_date': 1625308789, 'last_edit_date': 1687783705, 'question_id': 68235448, 'content_license': 'CC BY-SA 4.0', 'link': 'https://stackoverflow.com/questions/68235448/usestate-or-useref-for-form-submit', 'title': 'useState or useRef for form submit'}, {'tags': ['terraform'], 'owner': {'account_id': 11395696, 'reputation': 325, 'user_id': 8354181, 'user_type': 'registered', 'profile_image': 'https://www.gravatar.com/avatar/6a6e8e260e5769fb416e0946a23b12a4?s=256&d=identicon&r=PG&f=y&so-version=2', 'display_name': 'shxpark', 'link': 'https://stackoverflow.com/users/8354181/shxpark'}, 'is_answered': False, 'view_count': 28, 'answer_count': 1, 'score': 0, 'last_activity_date': 1726217580, 'creation_date': 1726169518, 'last_edit_date': 1726210586, 'question_id': 78979702, 'content_license': 'CC BY-SA 4.0', 'link': 'https://stackoverflow.com/questions/78979702/iterate-through-map-of-lists-as-value-in-terraform-resource', 'title': 'Iterate through map of lists as value in Terraform resource'}, {'tags': ['workflow', '.net-8.0', 'camunda', 'temporal', 'elsa-workflows'], 'owner': {'account_id': 9009278, 'reputation': 389, 'user_id': 6714608, 'user_type': 'registered', 'profile_image': 'https://www.gravatar.com/avatar/5ba44646b8f4c10e05ef454ed2485ad4?s=256&d=identicon&r=PG', 'display_name': 'ABCD', 'link': 'https://stackoverflow.com/users/6714608/abcd'}, 'is_answered': False, 'view_count': 701, 'answer_count': 1, 'score': 0, 'last_activity_date': 1726217572, 'creation_date': 1715701332, 'question_id': 78479207, 'content_license': 'CC BY-SA 4.0', 'link': 'https://stackoverflow.com/questions/78479207/elsa-vs-temportal-vs-camunda-vs-workflow-core', 'title': 'Elsa vs Temportal vs Camunda vs Workflow Core'}, {'tags': ['vim'], 'owner': {'account_id': 1161723, 'reputation': 6630, 'user_id': 1141095, 'user_type': 'registered', 'accept_rate': 82, 'profile_image': 'https://www.gravatar.com/avatar/14e65b489bf1aefb20286ea15302f032?s=256&d=identicon&r=PG', 'display_name': 'ezdazuzena', 'link': 'https://stackoverflow.com/users/1141095/ezdazuzena'}, 'is_answered': True, 'view_count': 4208, 'accepted_answer_id': 9261779, 'answer_count': 3, 'score': 20, 'last_activity_date': 1726217569, 'creation_date': 1329138689, 'last_edit_date': 1329142923, 'question_id': 9261123, 'content_license': 'CC BY-SA 3.0', 'link': 'https://stackoverflow.com/questions/9261123/add-word-under-cursor-to-search-pattern', 'title': 'Add word under cursor to search pattern'}, {'tags': ['wpf', 'datagrid', 'selection'], 'owner': {'account_id': 330103, 'reputation': 17834, 'user_id': 654019, 'user_type': 'registered', 'accept_rate': 56, 'profile_image': 'https://www.gravatar.com/avatar/438148c9a2ac0c1bb66f92a3adbafac2?s=256&d=identicon&r=PG', 'display_name': 'mans', 'link': 'https://stackoverflow.com/users/654019/mans'}, 'is_answered': True, 'view_count': 10182, 'answer_count': 3, 'score': 2, 'last_activity_date': 1726217568, 'creation_date': 1366900370, 'last_edit_date': 1460530848, 'question_id': 16217582, 'content_license': 'CC BY-SA 3.0', 'link': 'https://stackoverflow.com/questions/16217582/stopping-user-from-selecting-unselecting-rows-in-wpf-datagrid', 'title': 'Stopping user from selecting/unselecting rows in WPF DataGrid'}, {'tags': ['python', 'opencv', 'object-detection'], 'owner': {'account_id': 35609629, 'reputation': 1, 'user_id': 27305116, 'user_type': 'registered', 'profile_image': 'https://www.gravatar.com/avatar/200bcb7ce995d5b4efa732b674c536ce?s=256&d=identicon&r=PG&f=y&so-version=2', 'display_name': 'Baptiste Lemonnier', 'link': 'https://stackoverflow.com/users/27305116/baptiste-lemonnier'}, 'is_answered': False, 'view_count': 46, 'answer_count': 1, 'score': 0, 'last_activity_date': 1726217564, 'creation_date': 1726160439, 'last_edit_date': 1726215036, 'question_id': 78979236, 'content_license': 'CC BY-SA 4.0', 'link': 'https://stackoverflow.com/questions/78979236/opencv-rectangle-detection-accuracy-on-picture', 'title': 'OpenCV rectangle detection accuracy on picture'}, {'tags': ['java', 'memory', 'concurrency', 'synchronization', 'visibility'], 'owner': {'account_id': 29146483, 'reputation': 1, 'user_id': 22328292, 'user_type': 'registered', 'profile_image': 'https://lh3.googleusercontent.com/a/AAcHTtdiGHF2ZRitCurF06rbQzU8WrZnV4Z5zevBpkaeyPF1=k-s256', 'display_name': 'Sincerely', 'link': 'https://stackoverflow.com/users/22328292/sincerely'}, 'is_answered': False, 'view_count': 5, 'answer_count': 1, 'score': 0, 'last_activity_date': 1726217559, 'creation_date': 1726217362, 'question_id': 78981381, 'content_license': 'CC BY-SA 4.0', 'link': 'https://stackoverflow.com/questions/78981381/does-the-synchronized-getter-method-see-the-fully-or-partially-initialized-objec', 'title': 'Does the synchronized getter method see the fully or partially initialized object?'}, {'tags': ['sonos'], 'owner': {'account_id': 25361955, 'reputation': 1, 'user_id': 19177055, 'user_type': 'registered', 'profile_image': 'https://www.gravatar.com/avatar/b4e4ddb9137f94521fa74908190ba01b?s=256&d=identicon&r=PG', 'display_name': 'hahahaha', 'link': 'https://stackoverflow.com/users/19177055/hahahaha'}, 'is_answered': False, 'view_count': 5, 'answer_count': 0, 'score': 0, 'last_activity_date': 1726217546, 'creation_date': 1726217546, 'question_id': 78981392, 'content_license': 'CC BY-SA 4.0', 'link': 'https://stackoverflow.com/questions/78981392/is-there-any-rule-sonos-groupid-change', 'title': 'is there any rule Sonos groupId change?'}, {'tags': ['css', 'safari', 'webkit'], 'owner': {'account_id': 8643328, 'reputation': 93, 'user_id': 6471333, 'user_type': 'registered', 'profile_image': 'https://graph.facebook.com/1085160554882454/picture?type=large', 'display_name': 'Atis', 'link': 'https://stackoverflow.com/users/6471333/atis'}, 'is_answered': True, 'view_count': 15385, 'accepted_answer_id': 69980455, 'answer_count': 2, 'score': 6, 'last_activity_date': 1726217526, 'creation_date': 1636490912, 'question_id': 69904893, 'content_license': 'CC BY-SA 4.0', 'link': 'https://stackoverflow.com/questions/69904893/webkit-backdrop-filter-not-working-on-safari', 'title': '-webkit-backdrop-filter not working on Safari'}, {'tags': ['sql', 'northwind'], 'owner': {'account_id': 35622335, 'reputation': 1, 'user_id': 27312091, 'user_type': 'registered', 'profile_image': 'https://www.gravatar.com/avatar/09baf7b2cb8f7ccf5a4d8bada4eb22a7?s=256&d=identicon&r=PG&f=y&so-version=2', 'display_name': 'shiri shirixferede ferede', 'link': 'https://stackoverflow.com/users/27312091/shiri-shirixferede-ferede'}, 'is_answered': False, 'view_count': 3, 'answer_count': 0, 'score': 0, 'last_activity_date': 1726217499, 'creation_date': 1726217499, 'question_id': 78981391, 'content_license': 'CC BY-SA 4.0', 'link': 'https://stackoverflow.com/questions/78981391/sql-northwind-products-table', 'title': 'SQL Northwind Products Table'}, {'tags': ['node.js', 'angularjs', 'build', 'angular.json'], 'owner': {'account_id': 30826722, 'reputation': 1, 'user_id': 23648880, 'user_type': 'registered', 'profile_image': 'https://lh3.googleusercontent.com/a/ACg8ocLcAwxFJLUh5V3YQykDdkvgqrY0EJVo9ge8mdV_30MZ=k-s256', 'display_name': 'lksim mithila', 'link': 'https://stackoverflow.com/users/23648880/lksim-mithila'}, 'is_answered': False, 'view_count': 2, 'answer_count': 0, 'score': 0, 'last_activity_date': 1726217496, 'creation_date': 1726217496, 'question_id': 78981390, 'content_license': 'CC BY-SA 4.0', 'link': 'https://stackoverflow.com/questions/78981390/angular-build-process-hangs-at-building-and-doesnt-create-dist-folder', 'title': 'Angular build process hangs at &quot;Building...&quot; and doesn&#39;t create dist folder'}, {'tags': ['go'], 'owner': {'account_id': 10650642, 'reputation': 79, 'user_id': 7841731, 'user_type': 'registered', 'profile_image': 'https://lh4.googleusercontent.com/-AQZyusWov78/AAAAAAAAAAI/AAAAAAAAAA4/xLgQZ4vhhVk/photo.jpg?sz=256', 'display_name': 'almosaiki', 'link': 'https://stackoverflow.com/users/7841731/almosaiki'}, 'is_answered': False, 'view_count': 15, 'closed_date': 1726217452, 'answer_count': 0, 'score': 0, 'last_activity_date': 1726217458, 'creation_date': 1726214139, 'last_edit_date': 1726217458, 'question_id': 78981194, 'link': 'https://stackoverflow.com/questions/78981194/manage-service-with-authentication', 'closed_reason': 'Needs details or clarity', 'title': 'Manage Service with Authentication'}, {'tags': ['comments', 'linkedin-api', 'permission-denied'], 'owner': {'account_id': 32565358, 'reputation': 1, 'user_id': 25303722, 'user_type': 'registered', 'profile_image': 'https://www.gravatar.com/avatar/177a8560fa23d28a66ac19370c685573?s=256&d=identicon&r=PG&f=y&so-version=2', 'display_name': 'Fani AKKOUCHE', 'link': 'https://stackoverflow.com/users/25303722/fani-akkouche'}, 'is_answered': False, 'view_count': 13, 'answer_count': 0, 'score': -1, 'last_activity_date': 1726217457, 'creation_date': 1726141972, 'last_edit_date': 1726217457, 'question_id': 78978013, 'content_license': 'CC BY-SA 4.0', 'link': 'https://stackoverflow.com/questions/78978013/get-comments-from-linkedin-using-linkedin-api', 'title': 'Get Comments from Linkedin using LinkedIn API'}, {'tags': ['typescript'], 'owner': {'account_id': 1522664, 'reputation': 211, 'user_id': 1421921, 'user_type': 'registered', 'profile_image': 'https://i.sstatic.net/KJU1V.png?s=256', 'display_name': 'Khanon', 'link': 'https://stackoverflow.com/users/1421921/khanon'}, 'is_answered': False, 'view_count': 6, 'answer_count': 0, 'score': -1, 'last_activity_date': 1726217439, 'creation_date': 1726217439, 'question_id': 78981388, 'content_license': 'CC BY-SA 4.0', 'link': 'https://stackoverflow.com/questions/78981388/conditional-return-type-based-in-optional-function-argument-not-working', 'title': 'Conditional return type based in optional function argument not working'}, {'tags': ['javascript', 'unit-testing', 'testing', 'jestjs'], 'owner': {'account_id': 19181836, 'reputation': 1481, 'user_id': 14013352, 'user_type': 'registered', 'profile_image': 'https://www.gravatar.com/avatar/4e256683824eb0d9ee7e9dcadbeada24?s=256&d=identicon&r=PG&f=y&so-version=2', 'display_name': 'Eric', 'link': 'https://stackoverflow.com/users/14013352/eric'}, 'is_answered': True, 'view_count': 41, 'accepted_answer_id': 78800207, 'answer_count': 2, 'score': -1, 'last_activity_date': 1726217411, 'creation_date': 1722036479, 'question_id': 78800155, 'content_license': 'CC BY-SA 4.0', 'link': 'https://stackoverflow.com/questions/78800155/how-to-test-that-a-function-returned-without-doing-anything', 'title': 'How to test that a function returned without doing anything'}, {'tags': ['python-3.x', 'django', 'docker', 'ubuntu', 'pycrypto'], 'owner': {'account_id': 13178782, 'reputation': 389, 'user_id': 9518886, 'user_type': 'registered', 'profile_image': 'https://i.sstatic.net/0xBcT.jpg?s=256', 'display_name': 'Navid Sadeghi', 'link': 'https://stackoverflow.com/users/9518886/navid-sadeghi'}, 'is_answered': False, 'view_count': 5, 'answer_count': 0, 'score': 0, 'last_activity_date': 1726217394, 'creation_date': 1726217394, 'question_id': 78981384, 'content_license': 'CC BY-SA 4.0', 'link': 'https://stackoverflow.com/questions/78981384/error-libsecp256k1-so-0-cannot-open-shared-object-file-with-pytonlib-on-ubun', 'title': 'Error: &quot;libsecp256k1.so.0: cannot open shared object file&quot; with pytonlib on Ubuntu'}, {'tags': ['string', 'debugging', 'abap'], 'owner': {'account_id': 317335, 'reputation': 28471, 'user_id': 633961, 'user_type': 'registered', 'accept_rate': 66, 'profile_image': 'https://i.sstatic.net/j9Krc.jpg?s=256', 'display_name': 'guettli', 'link': 'https://stackoverflow.com/users/633961/guettli'}, 'is_answered': True, 'view_count': 4283, 'accepted_answer_id': 55844705, 'answer_count': 4, 'score': 4, 'last_activity_date': 1726217390, 'creation_date': 1556179263, 'last_edit_date': 1608907421, 'question_id': 55844508, 'content_license': 'CC BY-SA 4.0', 'link': 'https://stackoverflow.com/questions/55844508/view-the-end-of-a-long-string-in-abap-debugger', 'title': 'View the end of a long string in ABAP debugger'}, {'tags': ['python', 'dataframe', 'pyspark', 'left-join', 'databricks'], 'owner': {'account_id': 5458035, 'reputation': 39, 'user_id': 4340899, 'user_type': 'registered', 'profile_image': 'https://lh6.googleusercontent.com/-5dGipBBoRJw/AAAAAAAAAAI/AAAAAAAAAKM/6LPNAqa4DXg/photo.jpg?sz=256', 'display_name': 'Conquering', 'link': 'https://stackoverflow.com/users/4340899/conquering'}, 'is_answered': False, 'view_count': 27, 'answer_count': 0, 'score': 0, 'last_activity_date': 1726217374, 'creation_date': 1726049520, 'last_edit_date': 1726217374, 'question_id': 78973231, 'content_license': 'CC BY-SA 4.0', 'link': 'https://stackoverflow.com/questions/78973231/how-to-add-multiple-lookupvalue-columns-in-the-table-with-filter-on-the-another', 'title': 'How to add multiple LOOKUPVALUE columns in the table with filter on the another table efficiently (in Python)?'}, {'tags': ['generics', 'rust'], 'owner': {'account_id': 12880262, 'reputation': 728, 'user_id': 9315497, 'user_type': 'registered', 'profile_image': 'https://i.sstatic.net/BhZSpazu.webp?s=256', 'display_name': 'Yanni Wang', 'link': 'https://stackoverflow.com/users/9315497/yanni-wang'}, 'is_answered': False, 'view_count': 5, 'closed_date': 1726217419, 'answer_count': 0, 'score': 0, 'last_activity_date': 1726217373, 'creation_date': 1726217373, 'question_id': 78981382, 'link': 'https://stackoverflow.com/questions/78981382/the-type-parameter-c-is-not-constrained-by-the-impl-trait-self-type-or-predi', 'closed_reason': 'Duplicate', 'title': 'the type parameter `C` is not constrained by the impl trait, self type, or predicates'}, {'tags': ['reactjs', 'antd'], 'owner': {'account_id': 27181398, 'reputation': 9, 'user_id': 20716599, 'user_type': 'registered', 'profile_image': 'https://lh3.googleusercontent.com/a/AEdFTp4FtC6FstFsyBFqhM8gUtlRIRhPnavdIPlDWhGS=k-s256', 'display_name': 'Lisan Li', 'link': 'https://stackoverflow.com/users/20716599/lisan-li'}, 'is_answered': False, 'view_count': 6, 'answer_count': 0, 'score': 0, 'last_activity_date': 1726217359, 'creation_date': 1726217359, 'question_id': 78981380, 'content_license': 'CC BY-SA 4.0', 'link': 'https://stackoverflow.com/questions/78981380/react-text-mask-and-input-ant-design', 'title': 'react-text-mask and Input ant.design'}, {'tags': ['c#', 'jwt', 'asp.net-core-webapi', 'bearer-token', 'identitymodel'], 'owner': {'account_id': 19910180, 'reputation': 41, 'user_id': 14588337, 'user_type': 'registered', 'profile_image': 'https://lh3.googleusercontent.com/-F1GKLKO9EZE/AAAAAAAAAAI/AAAAAAAAAAA/AMZuuckZ0nJR-3_gr6EBuHGQzFhIoE0rOg/s96-c/photo.jpg?sz=256', 'display_name': 'Martin', 'link': 'https://stackoverflow.com/users/14588337/martin'}, 'is_answered': False, 'view_count': 19, 'answer_count': 0, 'score': 0, 'last_activity_date': 1726217347, 'creation_date': 1726212864, 'last_edit_date': 1726217347, 'question_id': 78981126, 'content_license': 'CC BY-SA 4.0', 'link': 'https://stackoverflow.com/questions/78981126/problem-creating-and-decoding-jwttokens-with-microsoft-identitymodel-tokens', 'title': 'Problem creating and decoding jwttokens with Microsoft.IdentityModel.Tokens'}, {'tags': ['vaadin', 'vaadin-flow', 'hilla'], 'owner': {'account_id': 3178089, 'reputation': 37, 'user_id': 2685471, 'user_type': 'registered', 'profile_image': 'https://i.sstatic.net/qJbQS.jpg?s=256', 'display_name': 'Martin', 'link': 'https://stackoverflow.com/users/2685471/martin'}, 'is_answered': False, 'view_count': 4, 'answer_count': 0, 'score': 0, 'last_activity_date': 1726217320, 'creation_date': 1726217320, 'question_id': 78981379, 'content_license': 'CC BY-SA 4.0', 'link': 'https://stackoverflow.com/questions/78981379/do-not-use-a-hilla-react-layout-in-a-flow-view-with-vaadin-24-4-x', 'title': 'Do not use a Hilla/React layout in a Flow View with Vaadin 24.4.x'}, {'tags': ['compiler-construction', 'computer-science', 'cpu-architecture', 'compiler-optimization'], 'owner': {'account_id': 35620209, 'reputation': 1, 'user_id': 27310684, 'user_type': 'registered', 'profile_image': 'https://www.gravatar.com/avatar/d52a0c40a5da97ac3d64713f92839b19?s=256&d=identicon&r=PG&f=y&so-version=2', 'display_name': 'Hemant Kumar', 'link': 'https://stackoverflow.com/users/27310684/hemant-kumar'}, 'is_answered': False, 'view_count': 3, 'answer_count': 0, 'score': 0, 'last_activity_date': 1726217320, 'creation_date': 1726217320, 'question_id': 78981378, 'content_license': 'CC BY-SA 4.0', 'link': 'https://stackoverflow.com/questions/78981378/what-is-meant-by-static-dispatch-restrictions', 'title': 'What is meant by Static Dispatch Restrictions?'}], 'has_more': True, 'quota_max': 300, 'quota_remaining': 296}\n"
     ]
    }
   ],
   "source": [
    "import requests\n",
    "import json\n",
    "\n",
    "response = requests.get(\"https://api.stackexchange.com/2.3/questions?site=stackoverflow\")\n",
    "print(json.loads(response.text))"
   ]
  }
 ],
 "metadata": {
  "kernelspec": {
   "display_name": ".venv",
   "language": "python",
   "name": "python3"
  },
  "language_info": {
   "codemirror_mode": {
    "name": "ipython",
    "version": 3
   },
   "file_extension": ".py",
   "mimetype": "text/x-python",
   "name": "python",
   "nbconvert_exporter": "python",
   "pygments_lexer": "ipython3",
   "version": "3.11.4"
  }
 },
 "nbformat": 4,
 "nbformat_minor": 2
}
