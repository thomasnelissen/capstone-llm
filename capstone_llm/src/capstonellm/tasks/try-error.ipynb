{
 "cells": [
  {
   "cell_type": "code",
   "execution_count": 14,
   "metadata": {},
   "outputs": [],
   "source": [
    "from pyspark.sql import SparkSession\n",
    "import os\n",
    "import subprocess\n",
    "import json\n",
    "import pyspark.sql.functions as psf\n",
    "spark = SparkSession.builder.getOrCreate()"
   ]
  },
  {
   "cell_type": "code",
   "execution_count": 15,
   "metadata": {},
   "outputs": [],
   "source": [
    "if not os.path.isfile(\"./data_in/airflow/questions.json\"):\n",
    "    subprocess.run([\"aws\", \"s3\", \"cp\", \"s3://dataminded-academy-capstone-llm-data-us/input/airflow/questions.json\", \"./data_in/airflow/\"])\n",
    "if not os.path.isfile(\"./data_in/airflow/answers.json\"):\n",
    "    subprocess.run([\"aws\", \"s3\", \"cp\", \"s3://dataminded-academy-capstone-llm-data-us/input/airflow/answers.json\", \"./data_in/airflow/\"])"
   ]
  },
  {
   "cell_type": "code",
   "execution_count": 16,
   "metadata": {},
   "outputs": [],
   "source": [
    "questions_obj = spark.read.json(\"./data_in/airflow/questions.json\")\n",
    "answers_obj = spark.read.json(\"./data_in/airflow/answers.json\")"
   ]
  },
  {
   "cell_type": "code",
   "execution_count": 17,
   "metadata": {},
   "outputs": [
    {
     "name": "stdout",
     "output_type": "stream",
     "text": [
      "62\n"
     ]
    }
   ],
   "source": [
    "questions = ( \n",
    "    questions_obj\n",
    "        .select(psf.explode(questions_obj.items).alias(\"items\"))\n",
    "        .filter(psf.col(\"items.accepted_answer_id\").isNotNull())\n",
    "        .select(psf.col(\"items.body\").alias(\"question\"), \"items.title\", \"items.is_answered\", \"items.accepted_answer_id\")\n",
    ")\n",
    "print(questions.count())"
   ]
  },
  {
   "cell_type": "code",
   "execution_count": 18,
   "metadata": {},
   "outputs": [
    {
     "name": "stdout",
     "output_type": "stream",
     "text": [
      "30\n"
     ]
    }
   ],
   "source": [
    "answers = ( \n",
    "    answers_obj\n",
    "        .select(psf.explode(answers_obj.items).alias(\"items\"))\n",
    "        .select(psf.col(\"items.body\").alias(\"answer\"), \"items.answer_id\", \"items.question_id\")\n",
    ")\n",
    "print(answers.count())"
   ]
  },
  {
   "cell_type": "code",
   "execution_count": 19,
   "metadata": {},
   "outputs": [
    {
     "name": "stdout",
     "output_type": "stream",
     "text": [
      "21\n",
      "+--------------------+--------------------+--------------------+\n",
      "|               title|            question|              answer|\n",
      "+--------------------+--------------------+--------------------+\n",
      "|Airflow: how to d...|<p>I have started...|<p><strong>Edit 8...|\n",
      "|execution_date in...|<p>I am really a ...|<p>The <code>Bash...|\n",
      "|Apache Airflow or...|<p>I'm trying to ...|<p>The other answ...|\n",
      "|How to create a c...|<p>I would like t...|<p>You have to us...|\n",
      "|How to prevent ai...|<p>Say you have a...|<p>Upgrade to air...|\n",
      "|First time login ...|<p>I've just inst...|<p>There is no de...|\n",
      "|How to control th...|<p>In some of my ...|<p>Here's an expa...|\n",
      "|Writing to Airflo...|<p>One way to wri...|<p>You can import...|\n",
      "|Airflow - How to ...|<p>I need to refe...|<p>Templates like...|\n",
      "|Airflow s3 connec...|<p>I've been tryi...|<p>EDIT: This ans...|\n",
      "|Airflow versus AW...|<p>I am working o...|<p>I have worked ...|\n",
      "|Error while insta...|<p>Getting the fo...|<p>Try the follow...|\n",
      "|How to restart a ...|<p>I am using a <...|<p>In the UI:</p>...|\n",
      "| Airflow parallelism|<p>the Local Exec...|<p><strong>parall...|\n",
      "|For Apache Airflo...|<p>I use Airflow ...|<p>You can pass p...|\n",
      "|Efficient way to ...|<p>Are there any ...|<p>Here is how we...|\n",
      "|Airflow backfill ...|<p>I'm just getti...|<p>When you chang...|\n",
      "|TemplateNotFound ...|<p>I'm trying to ...|<p>This is a pitf...|\n",
      "|How to pass param...|<p>I just started...|<ol>\\n<li>Pass a ...|\n",
      "|How to set up Air...|<p>I followed onl...|<p><strong>Settin...|\n",
      "+--------------------+--------------------+--------------------+\n",
      "only showing top 20 rows\n",
      "\n"
     ]
    }
   ],
   "source": [
    "output = questions.join(answers, on=(questions.accepted_answer_id == answers.answer_id)).select(\"title\", \"question\", \"answer\")\n",
    "print(output.count())\n",
    "output.show()"
   ]
  },
  {
   "cell_type": "code",
   "execution_count": 20,
   "metadata": {},
   "outputs": [
    {
     "name": "stderr",
     "output_type": "stream",
     "text": [
      "                                                                                \r"
     ]
    }
   ],
   "source": [
    "output.repartition(output.count()).write.mode(\"overwrite\").json(\"./data_out/\")"
   ]
  },
  {
   "cell_type": "code",
   "execution_count": 22,
   "metadata": {},
   "outputs": [
    {
     "ename": "FileNotFoundError",
     "evalue": "[Errno 2] No such file or directory: './data_out/airflow/'",
     "output_type": "error",
     "traceback": [
      "\u001b[0;31m---------------------------------------------------------------------------\u001b[0m",
      "\u001b[0;31mFileNotFoundError\u001b[0m                         Traceback (most recent call last)",
      "Cell \u001b[0;32mIn[22], line 1\u001b[0m\n\u001b[0;32m----> 1\u001b[0m \u001b[38;5;28;01mfor\u001b[39;00m filename \u001b[38;5;129;01min\u001b[39;00m \u001b[43mos\u001b[49m\u001b[38;5;241;43m.\u001b[39;49m\u001b[43mlistdir\u001b[49m\u001b[43m(\u001b[49m\u001b[38;5;124;43m\"\u001b[39;49m\u001b[38;5;124;43m./data_out/airflow/\u001b[39;49m\u001b[38;5;124;43m\"\u001b[39;49m\u001b[43m)\u001b[49m:\n\u001b[1;32m      2\u001b[0m     \u001b[38;5;28;01mif\u001b[39;00m \u001b[38;5;129;01mnot\u001b[39;00m filename\u001b[38;5;241m.\u001b[39mendswith(\u001b[38;5;124m\"\u001b[39m\u001b[38;5;124m.json\u001b[39m\u001b[38;5;124m\"\u001b[39m):\n\u001b[1;32m      3\u001b[0m         os\u001b[38;5;241m.\u001b[39mremove(os\u001b[38;5;241m.\u001b[39mpath\u001b[38;5;241m.\u001b[39mjoin(\u001b[38;5;124m\"\u001b[39m\u001b[38;5;124m./data_out/airflow/\u001b[39m\u001b[38;5;124m\"\u001b[39m, filename))\n",
      "\u001b[0;31mFileNotFoundError\u001b[0m: [Errno 2] No such file or directory: './data_out/airflow/'"
     ]
    }
   ],
   "source": [
    "for filename in os.listdir(\"./data_out/airflow/\"):\n",
    "    if not filename.endswith(\".json\"):\n",
    "        os.remove(os.path.join(\"./data_out/airflow/\", filename))"
   ]
  },
  {
   "cell_type": "code",
   "execution_count": 13,
   "metadata": {},
   "outputs": [
    {
     "name": "stdout",
     "output_type": "stream",
     "text": [
      "uploading part-00000-5bf065cc-ea5d-4b28-8b1c-3522234ac00b-c000.json\n"
     ]
    },
    {
     "name": "stderr",
     "output_type": "stream",
     "text": [
      "\n",
      "The user-provided path ./data_in/airflow/part-00000-5bf065cc-ea5d-4b28-8b1c-3522234ac00b-c000.json does not exist.\n"
     ]
    },
    {
     "name": "stdout",
     "output_type": "stream",
     "text": [
      "uploading part-00001-5bf065cc-ea5d-4b28-8b1c-3522234ac00b-c000.json\n"
     ]
    },
    {
     "name": "stderr",
     "output_type": "stream",
     "text": [
      "\n",
      "The user-provided path ./data_in/airflow/part-00001-5bf065cc-ea5d-4b28-8b1c-3522234ac00b-c000.json does not exist.\n"
     ]
    },
    {
     "name": "stdout",
     "output_type": "stream",
     "text": [
      "uploading part-00002-5bf065cc-ea5d-4b28-8b1c-3522234ac00b-c000.json\n"
     ]
    },
    {
     "name": "stderr",
     "output_type": "stream",
     "text": [
      "\n",
      "The user-provided path ./data_in/airflow/part-00002-5bf065cc-ea5d-4b28-8b1c-3522234ac00b-c000.json does not exist.\n"
     ]
    },
    {
     "name": "stdout",
     "output_type": "stream",
     "text": [
      "uploading part-00003-5bf065cc-ea5d-4b28-8b1c-3522234ac00b-c000.json\n"
     ]
    },
    {
     "name": "stderr",
     "output_type": "stream",
     "text": [
      "\n",
      "The user-provided path ./data_in/airflow/part-00003-5bf065cc-ea5d-4b28-8b1c-3522234ac00b-c000.json does not exist.\n"
     ]
    },
    {
     "name": "stdout",
     "output_type": "stream",
     "text": [
      "uploading part-00004-5bf065cc-ea5d-4b28-8b1c-3522234ac00b-c000.json\n"
     ]
    },
    {
     "name": "stderr",
     "output_type": "stream",
     "text": [
      "\n",
      "The user-provided path ./data_in/airflow/part-00004-5bf065cc-ea5d-4b28-8b1c-3522234ac00b-c000.json does not exist.\n"
     ]
    },
    {
     "name": "stdout",
     "output_type": "stream",
     "text": [
      "uploading part-00005-5bf065cc-ea5d-4b28-8b1c-3522234ac00b-c000.json\n"
     ]
    },
    {
     "name": "stderr",
     "output_type": "stream",
     "text": [
      "\n",
      "The user-provided path ./data_in/airflow/part-00005-5bf065cc-ea5d-4b28-8b1c-3522234ac00b-c000.json does not exist.\n"
     ]
    },
    {
     "name": "stdout",
     "output_type": "stream",
     "text": [
      "uploading part-00006-5bf065cc-ea5d-4b28-8b1c-3522234ac00b-c000.json\n"
     ]
    },
    {
     "name": "stderr",
     "output_type": "stream",
     "text": [
      "\n",
      "The user-provided path ./data_in/airflow/part-00006-5bf065cc-ea5d-4b28-8b1c-3522234ac00b-c000.json does not exist.\n"
     ]
    },
    {
     "name": "stdout",
     "output_type": "stream",
     "text": [
      "uploading part-00007-5bf065cc-ea5d-4b28-8b1c-3522234ac00b-c000.json\n"
     ]
    },
    {
     "name": "stderr",
     "output_type": "stream",
     "text": [
      "\n",
      "The user-provided path ./data_in/airflow/part-00007-5bf065cc-ea5d-4b28-8b1c-3522234ac00b-c000.json does not exist.\n"
     ]
    },
    {
     "name": "stdout",
     "output_type": "stream",
     "text": [
      "uploading part-00008-5bf065cc-ea5d-4b28-8b1c-3522234ac00b-c000.json\n"
     ]
    },
    {
     "name": "stderr",
     "output_type": "stream",
     "text": [
      "\n",
      "The user-provided path ./data_in/airflow/part-00008-5bf065cc-ea5d-4b28-8b1c-3522234ac00b-c000.json does not exist.\n"
     ]
    },
    {
     "name": "stdout",
     "output_type": "stream",
     "text": [
      "uploading part-00009-5bf065cc-ea5d-4b28-8b1c-3522234ac00b-c000.json\n"
     ]
    },
    {
     "name": "stderr",
     "output_type": "stream",
     "text": [
      "\n",
      "The user-provided path ./data_in/airflow/part-00009-5bf065cc-ea5d-4b28-8b1c-3522234ac00b-c000.json does not exist.\n"
     ]
    },
    {
     "name": "stdout",
     "output_type": "stream",
     "text": [
      "uploading part-00010-5bf065cc-ea5d-4b28-8b1c-3522234ac00b-c000.json\n"
     ]
    },
    {
     "name": "stderr",
     "output_type": "stream",
     "text": [
      "\n",
      "The user-provided path ./data_in/airflow/part-00010-5bf065cc-ea5d-4b28-8b1c-3522234ac00b-c000.json does not exist.\n"
     ]
    },
    {
     "name": "stdout",
     "output_type": "stream",
     "text": [
      "uploading part-00011-5bf065cc-ea5d-4b28-8b1c-3522234ac00b-c000.json\n"
     ]
    },
    {
     "name": "stderr",
     "output_type": "stream",
     "text": [
      "\n",
      "The user-provided path ./data_in/airflow/part-00011-5bf065cc-ea5d-4b28-8b1c-3522234ac00b-c000.json does not exist.\n"
     ]
    },
    {
     "name": "stdout",
     "output_type": "stream",
     "text": [
      "uploading part-00012-5bf065cc-ea5d-4b28-8b1c-3522234ac00b-c000.json\n"
     ]
    },
    {
     "name": "stderr",
     "output_type": "stream",
     "text": [
      "\n",
      "The user-provided path ./data_in/airflow/part-00012-5bf065cc-ea5d-4b28-8b1c-3522234ac00b-c000.json does not exist.\n"
     ]
    },
    {
     "name": "stdout",
     "output_type": "stream",
     "text": [
      "uploading part-00013-5bf065cc-ea5d-4b28-8b1c-3522234ac00b-c000.json\n"
     ]
    },
    {
     "name": "stderr",
     "output_type": "stream",
     "text": [
      "\n",
      "The user-provided path ./data_in/airflow/part-00013-5bf065cc-ea5d-4b28-8b1c-3522234ac00b-c000.json does not exist.\n"
     ]
    },
    {
     "name": "stdout",
     "output_type": "stream",
     "text": [
      "uploading part-00014-5bf065cc-ea5d-4b28-8b1c-3522234ac00b-c000.json\n"
     ]
    },
    {
     "name": "stderr",
     "output_type": "stream",
     "text": [
      "\n",
      "The user-provided path ./data_in/airflow/part-00014-5bf065cc-ea5d-4b28-8b1c-3522234ac00b-c000.json does not exist.\n"
     ]
    },
    {
     "name": "stdout",
     "output_type": "stream",
     "text": [
      "uploading part-00015-5bf065cc-ea5d-4b28-8b1c-3522234ac00b-c000.json\n"
     ]
    },
    {
     "name": "stderr",
     "output_type": "stream",
     "text": [
      "\n",
      "The user-provided path ./data_in/airflow/part-00015-5bf065cc-ea5d-4b28-8b1c-3522234ac00b-c000.json does not exist.\n"
     ]
    },
    {
     "name": "stdout",
     "output_type": "stream",
     "text": [
      "uploading part-00016-5bf065cc-ea5d-4b28-8b1c-3522234ac00b-c000.json\n"
     ]
    },
    {
     "name": "stderr",
     "output_type": "stream",
     "text": [
      "\n",
      "The user-provided path ./data_in/airflow/part-00016-5bf065cc-ea5d-4b28-8b1c-3522234ac00b-c000.json does not exist.\n"
     ]
    },
    {
     "name": "stdout",
     "output_type": "stream",
     "text": [
      "uploading part-00017-5bf065cc-ea5d-4b28-8b1c-3522234ac00b-c000.json\n"
     ]
    },
    {
     "name": "stderr",
     "output_type": "stream",
     "text": [
      "\n",
      "The user-provided path ./data_in/airflow/part-00017-5bf065cc-ea5d-4b28-8b1c-3522234ac00b-c000.json does not exist.\n"
     ]
    },
    {
     "name": "stdout",
     "output_type": "stream",
     "text": [
      "uploading part-00018-5bf065cc-ea5d-4b28-8b1c-3522234ac00b-c000.json\n"
     ]
    },
    {
     "name": "stderr",
     "output_type": "stream",
     "text": [
      "\n",
      "The user-provided path ./data_in/airflow/part-00018-5bf065cc-ea5d-4b28-8b1c-3522234ac00b-c000.json does not exist.\n"
     ]
    },
    {
     "name": "stdout",
     "output_type": "stream",
     "text": [
      "uploading part-00019-5bf065cc-ea5d-4b28-8b1c-3522234ac00b-c000.json\n"
     ]
    },
    {
     "name": "stderr",
     "output_type": "stream",
     "text": [
      "\n",
      "The user-provided path ./data_in/airflow/part-00019-5bf065cc-ea5d-4b28-8b1c-3522234ac00b-c000.json does not exist.\n"
     ]
    },
    {
     "name": "stdout",
     "output_type": "stream",
     "text": [
      "uploading part-00020-5bf065cc-ea5d-4b28-8b1c-3522234ac00b-c000.json\n"
     ]
    },
    {
     "name": "stderr",
     "output_type": "stream",
     "text": [
      "\n",
      "The user-provided path ./data_in/airflow/part-00020-5bf065cc-ea5d-4b28-8b1c-3522234ac00b-c000.json does not exist.\n"
     ]
    }
   ],
   "source": [
    "for filename in os.listdir(\"./data_out\"):\n",
    "    f = os.path.join(\"./data_out\", filename)\n",
    "    if os.path.isfile(f) and filename.split('.').pop() == 'json':\n",
    "        print(\"uploading \" + filename)\n",
    "        subprocess.run([\"aws\", \"s3\", \"cp\", \"./data_in/airflow/\"+filename, \"s3://dataminded-academy-capstone-llm-data-us/cleaned/thomas/airflow/\"])"
   ]
  }
 ],
 "metadata": {
  "kernelspec": {
   "display_name": ".venv",
   "language": "python",
   "name": "python3"
  },
  "language_info": {
   "codemirror_mode": {
    "name": "ipython",
    "version": 3
   },
   "file_extension": ".py",
   "mimetype": "text/x-python",
   "name": "python",
   "nbconvert_exporter": "python",
   "pygments_lexer": "ipython3",
   "version": "3.11.4"
  }
 },
 "nbformat": 4,
 "nbformat_minor": 2
}
